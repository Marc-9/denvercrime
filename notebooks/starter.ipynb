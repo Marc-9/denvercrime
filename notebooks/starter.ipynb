{
 "cells": [
  {
   "cell_type": "markdown",
   "metadata": {},
   "source": [
    "# Denver Crime Starter"
   ]
  },
  {
   "cell_type": "markdown",
   "metadata": {},
   "source": [
    "This notebook is intended to act as a starter for participants in the 4th Paradigm Denver Crime Data Science Project. If you haven't done so already, please consult the [*Project setup*](https://github.com/the4thparadigm/hitchhikers_guide/tree/master/ds_projects/project_set_up) section of the Hitchhiker's Guide and the [*Getting started*](https://github.com/dawsoneliasen/denvercrime#getting-started) section of the project README on GitHub. "
   ]
  },
  {
   "cell_type": "markdown",
   "metadata": {},
   "source": [
    "## Packages\n",
    "There are several standard packages that will be used in almost every data science project. These packages aren't built in to Python, so you must import these packages to utilize them. The packages we are using for this exercise are:\n",
    "* numpy: provides linear algebra (required for pandas and matplotlib)\n",
    "* pandas: provides convenient tables for organizing data (DataFrames) and file I/O\n",
    "* matplotlib: provides visualization functionality\n",
    "Run the code cell below to import these packages."
   ]
  },
  {
   "cell_type": "code",
   "execution_count": 2,
   "metadata": {},
   "outputs": [],
   "source": [
    "import matplotlib.pyplot as plt\n",
    "import numpy as np\n",
    "import os\n",
    "import pandas as pd"
   ]
  },
  {
   "cell_type": "markdown",
   "metadata": {},
   "source": [
    "## Importing data"
   ]
  },
  {
   "cell_type": "markdown",
   "metadata": {},
   "source": [
    "The next thing you need to do is import the data into the notebook. If you haven't already done so, make sure to download the denver crime data, unzip it into data/raw/(see the [*Getting started*](https://github.com/dawsoneliasen/denvercrime#getting-started) section of the project README). Then, give accesst the csv by running `chmod 700 data/raw/crime.csv`. Let's take the data out from the .csv and put it in a pandas dataframe."
   ]
  },
  {
   "cell_type": "code",
   "execution_count": 3,
   "metadata": {},
   "outputs": [],
   "source": [
    "df = pd.read_csv('../data/raw/crime.csv', engine='python')\n",
    "df.dataframeName = 'crime.csv'"
   ]
  },
  {
   "cell_type": "markdown",
   "metadata": {},
   "source": [
    "Now that the data are imported, let's print out a small portion of the dataframe to see what it looks like. "
   ]
  },
  {
   "cell_type": "code",
   "execution_count": 4,
   "metadata": {},
   "outputs": [
    {
     "data": {
      "text/html": [
       "<div>\n",
       "<style scoped>\n",
       "    .dataframe tbody tr th:only-of-type {\n",
       "        vertical-align: middle;\n",
       "    }\n",
       "\n",
       "    .dataframe tbody tr th {\n",
       "        vertical-align: top;\n",
       "    }\n",
       "\n",
       "    .dataframe thead th {\n",
       "        text-align: right;\n",
       "    }\n",
       "</style>\n",
       "<table border=\"1\" class=\"dataframe\">\n",
       "  <thead>\n",
       "    <tr style=\"text-align: right;\">\n",
       "      <th></th>\n",
       "      <th>INCIDENT_ID</th>\n",
       "      <th>OFFENSE_ID</th>\n",
       "      <th>OFFENSE_CODE</th>\n",
       "      <th>OFFENSE_CODE_EXTENSION</th>\n",
       "      <th>OFFENSE_TYPE_ID</th>\n",
       "      <th>OFFENSE_CATEGORY_ID</th>\n",
       "      <th>FIRST_OCCURRENCE_DATE</th>\n",
       "      <th>LAST_OCCURRENCE_DATE</th>\n",
       "      <th>REPORTED_DATE</th>\n",
       "      <th>INCIDENT_ADDRESS</th>\n",
       "      <th>GEO_X</th>\n",
       "      <th>GEO_Y</th>\n",
       "      <th>GEO_LON</th>\n",
       "      <th>GEO_LAT</th>\n",
       "      <th>DISTRICT_ID</th>\n",
       "      <th>PRECINCT_ID</th>\n",
       "      <th>NEIGHBORHOOD_ID</th>\n",
       "      <th>IS_CRIME</th>\n",
       "      <th>IS_TRAFFIC</th>\n",
       "    </tr>\n",
       "  </thead>\n",
       "  <tbody>\n",
       "    <tr>\n",
       "      <th>0</th>\n",
       "      <td>2016376978</td>\n",
       "      <td>2016376978521300</td>\n",
       "      <td>5213</td>\n",
       "      <td>0</td>\n",
       "      <td>weapon-unlawful-discharge-of</td>\n",
       "      <td>all-other-crimes</td>\n",
       "      <td>6/15/2016 11:31:00 PM</td>\n",
       "      <td>NaN</td>\n",
       "      <td>6/15/2016 11:31:00 PM</td>\n",
       "      <td>NaN</td>\n",
       "      <td>3193983.0</td>\n",
       "      <td>1707251.0</td>\n",
       "      <td>-104.809881</td>\n",
       "      <td>39.773188</td>\n",
       "      <td>5</td>\n",
       "      <td>521</td>\n",
       "      <td>montbello</td>\n",
       "      <td>1</td>\n",
       "      <td>0</td>\n",
       "    </tr>\n",
       "    <tr>\n",
       "      <th>1</th>\n",
       "      <td>20186000994</td>\n",
       "      <td>20186000994239900</td>\n",
       "      <td>2399</td>\n",
       "      <td>0</td>\n",
       "      <td>theft-other</td>\n",
       "      <td>larceny</td>\n",
       "      <td>10/11/2017 12:30:00 PM</td>\n",
       "      <td>10/11/2017 4:55:00 PM</td>\n",
       "      <td>1/29/2018 5:53:00 PM</td>\n",
       "      <td>NaN</td>\n",
       "      <td>3201943.0</td>\n",
       "      <td>1711852.0</td>\n",
       "      <td>-104.781434</td>\n",
       "      <td>39.785649</td>\n",
       "      <td>5</td>\n",
       "      <td>522</td>\n",
       "      <td>gateway-green-valley-ranch</td>\n",
       "      <td>1</td>\n",
       "      <td>0</td>\n",
       "    </tr>\n",
       "    <tr>\n",
       "      <th>2</th>\n",
       "      <td>20166003953</td>\n",
       "      <td>20166003953230500</td>\n",
       "      <td>2305</td>\n",
       "      <td>0</td>\n",
       "      <td>theft-items-from-vehicle</td>\n",
       "      <td>theft-from-motor-vehicle</td>\n",
       "      <td>3/4/2016 8:00:00 PM</td>\n",
       "      <td>4/25/2016 8:00:00 AM</td>\n",
       "      <td>4/26/2016 9:02:00 PM</td>\n",
       "      <td>2932 S JOSEPHINE ST</td>\n",
       "      <td>3152762.0</td>\n",
       "      <td>1667011.0</td>\n",
       "      <td>-104.957381</td>\n",
       "      <td>39.663490</td>\n",
       "      <td>3</td>\n",
       "      <td>314</td>\n",
       "      <td>wellshire</td>\n",
       "      <td>1</td>\n",
       "      <td>0</td>\n",
       "    </tr>\n",
       "    <tr>\n",
       "      <th>3</th>\n",
       "      <td>201872333</td>\n",
       "      <td>201872333239900</td>\n",
       "      <td>2399</td>\n",
       "      <td>0</td>\n",
       "      <td>theft-other</td>\n",
       "      <td>larceny</td>\n",
       "      <td>1/30/2018 7:20:00 PM</td>\n",
       "      <td>NaN</td>\n",
       "      <td>1/30/2018 10:29:00 PM</td>\n",
       "      <td>705 S COLORADO BLVD</td>\n",
       "      <td>3157162.0</td>\n",
       "      <td>1681320.0</td>\n",
       "      <td>-104.941440</td>\n",
       "      <td>39.702698</td>\n",
       "      <td>3</td>\n",
       "      <td>312</td>\n",
       "      <td>belcaro</td>\n",
       "      <td>1</td>\n",
       "      <td>0</td>\n",
       "    </tr>\n",
       "    <tr>\n",
       "      <th>4</th>\n",
       "      <td>2017411405</td>\n",
       "      <td>2017411405230300</td>\n",
       "      <td>2303</td>\n",
       "      <td>0</td>\n",
       "      <td>theft-shoplift</td>\n",
       "      <td>larceny</td>\n",
       "      <td>6/22/2017 8:53:00 PM</td>\n",
       "      <td>NaN</td>\n",
       "      <td>6/23/2017 4:09:00 PM</td>\n",
       "      <td>2810 E 1ST AVE</td>\n",
       "      <td>3153211.0</td>\n",
       "      <td>1686545.0</td>\n",
       "      <td>-104.955370</td>\n",
       "      <td>39.717107</td>\n",
       "      <td>3</td>\n",
       "      <td>311</td>\n",
       "      <td>cherry-creek</td>\n",
       "      <td>1</td>\n",
       "      <td>0</td>\n",
       "    </tr>\n",
       "  </tbody>\n",
       "</table>\n",
       "</div>"
      ],
      "text/plain": [
       "   INCIDENT_ID         OFFENSE_ID  OFFENSE_CODE  OFFENSE_CODE_EXTENSION  \\\n",
       "0   2016376978   2016376978521300          5213                       0   \n",
       "1  20186000994  20186000994239900          2399                       0   \n",
       "2  20166003953  20166003953230500          2305                       0   \n",
       "3    201872333    201872333239900          2399                       0   \n",
       "4   2017411405   2017411405230300          2303                       0   \n",
       "\n",
       "                OFFENSE_TYPE_ID       OFFENSE_CATEGORY_ID  \\\n",
       "0  weapon-unlawful-discharge-of          all-other-crimes   \n",
       "1                   theft-other                   larceny   \n",
       "2      theft-items-from-vehicle  theft-from-motor-vehicle   \n",
       "3                   theft-other                   larceny   \n",
       "4                theft-shoplift                   larceny   \n",
       "\n",
       "    FIRST_OCCURRENCE_DATE   LAST_OCCURRENCE_DATE          REPORTED_DATE  \\\n",
       "0   6/15/2016 11:31:00 PM                    NaN  6/15/2016 11:31:00 PM   \n",
       "1  10/11/2017 12:30:00 PM  10/11/2017 4:55:00 PM   1/29/2018 5:53:00 PM   \n",
       "2     3/4/2016 8:00:00 PM   4/25/2016 8:00:00 AM   4/26/2016 9:02:00 PM   \n",
       "3    1/30/2018 7:20:00 PM                    NaN  1/30/2018 10:29:00 PM   \n",
       "4    6/22/2017 8:53:00 PM                    NaN   6/23/2017 4:09:00 PM   \n",
       "\n",
       "      INCIDENT_ADDRESS      GEO_X      GEO_Y     GEO_LON    GEO_LAT  \\\n",
       "0                  NaN  3193983.0  1707251.0 -104.809881  39.773188   \n",
       "1                  NaN  3201943.0  1711852.0 -104.781434  39.785649   \n",
       "2  2932 S JOSEPHINE ST  3152762.0  1667011.0 -104.957381  39.663490   \n",
       "3  705 S COLORADO BLVD  3157162.0  1681320.0 -104.941440  39.702698   \n",
       "4       2810 E 1ST AVE  3153211.0  1686545.0 -104.955370  39.717107   \n",
       "\n",
       "   DISTRICT_ID  PRECINCT_ID             NEIGHBORHOOD_ID  IS_CRIME  IS_TRAFFIC  \n",
       "0            5          521                   montbello         1           0  \n",
       "1            5          522  gateway-green-valley-ranch         1           0  \n",
       "2            3          314                   wellshire         1           0  \n",
       "3            3          312                     belcaro         1           0  \n",
       "4            3          311                cherry-creek         1           0  "
      ]
     },
     "execution_count": 4,
     "metadata": {},
     "output_type": "execute_result"
    }
   ],
   "source": [
    "df.head(5)"
   ]
  },
  {
   "cell_type": "markdown",
   "metadata": {},
   "source": [
    "## Making a visualization\n",
    "To start building an intuition of what we're dealing with, let's visualize the frequency of different offense categories (from the offense_type_id column)."
   ]
  },
  {
   "cell_type": "code",
   "execution_count": 10,
   "metadata": {},
   "outputs": [
    {
     "data": {
      "image/png": "[encoded data removed]",
      "text/plain": [
       "<Figure size 800x800 with 1 Axes>"
      ]
     },
     "metadata": {},
     "output_type": "display_data"
    }
   ],
   "source": [
    "# first, let's filter the dataframe for values that are commonly used\n",
    "# this code will reduce the dataframe to a subset of itself, retaining only values that are frequently used\n",
    "nunique = df.nunique()\n",
    "df = df[[col for col in df if nunique[col] > 1 and nunique[col] < 50]]\n",
    "\n",
    "nRow, nCol = df.shape\n",
    "\n",
    "# pull out the offense_category column as a dataframe\n",
    "# TODO: make this more readable by accessing the column using its name\n",
    "column = df.iloc[:, 1]\n",
    "\n",
    "# initialize the pyplot figure\n",
    "plt.figure(num=None, figsize =(10, 10), dpi=80, facecolor='w', edgecolor='k')\n",
    "\n",
    "\n",
    "# we can get the frequency of each category by calling value_counts() on the column\n",
    "counts = column.value_counts()\n",
    "\n",
    "# make a bar plot\n",
    "counts.plot.bar()\n",
    "\n",
    "# add labels\n",
    "plt.title('Frequency of offense categories')\n",
    "plt.xlabel('category')\n",
    "plt.ylabel('counts')\n",
    "\n",
    "# format the ticks on the x axis\n",
    "plt.xticks(rotation = 90)\n",
    "\n",
    "# set the layout\n",
    "plt.tight_layout(pad = 1.0, w_pad = 1.0, h_pad = 1.0)\n",
    "\n",
    "#display the plot\n",
    "plt.show()"
   ]
  },
  {
   "cell_type": "code",
   "execution_count": null,
   "metadata": {},
   "outputs": [],
   "source": []
  }
 ],
 "metadata": {
  "kernelspec": {
   "display_name": "Python 3",
   "language": "python",
   "name": "python3"
  },
  "language_info": {
   "codemirror_mode": {
    "name": "ipython",
    "version": 3
   },
   "file_extension": ".py",
   "mimetype": "text/x-python",
   "name": "python",
   "nbconvert_exporter": "python",
   "pygments_lexer": "ipython3",
   "version": "3.7.0"
  }
 },
 "nbformat": 4,
 "nbformat_minor": 2
}
