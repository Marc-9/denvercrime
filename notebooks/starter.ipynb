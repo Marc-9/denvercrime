{
 "cells": [
  {
   "cell_type": "markdown",
   "metadata": {},
   "source": [
    "# Denver Crime Starter"
   ]
  },
  {
   "cell_type": "markdown",
   "metadata": {},
   "source": [
    "This notebook is intended to act as a starter for participants in the 4th Paradigm Denver Crime Data Science Project. If you haven't done so already, please consult the [*Project setup*](https://github.com/the4thparadigm/hitchhikers_guide/tree/master/ds_projects/project_set_up) section of the Hitchhiker's Guide and the [*Getting started*](https://github.com/dawsoneliasen/denvercrime#getting-started) section of the project README on GitHub. "
   ]
  },
  {
   "cell_type": "markdown",
   "metadata": {},
   "source": [
    "## Packages\n",
    "There are several standard packages that will be used in almost every data science project. These packages aren't built in to Python, so you must import these packages to utilize them. The packages we are using for this exercise are:\n",
    "* numpy: provides linear algebra (required for pandas and matplotlib)\n",
    "* matplotlib: provides visualization functionality\n",
    "* pandas: provides convenient structures for organizing data (Series, DataFrame) and file I/O\n",
    "* seaborn: a beautification layer on top of matplotlib\n",
    "\n",
    "Run the code cell below to import these packages."
   ]
  },
  {
   "cell_type": "code",
   "execution_count": null,
   "metadata": {},
   "outputs": [],
   "source": [
    "import matplotlib.pyplot as plt\n",
    "import numpy as np\n",
    "import os\n",
    "import pandas as pd\n",
    "import seaborn as sns"
   ]
  },
  {
   "cell_type": "markdown",
   "metadata": {},
   "source": [
    "## Load Configuration Files\n",
    "\n",
    "Let's load the configuration file, which allows us to easily load data and output results"
   ]
  },
  {
   "cell_type": "code",
   "execution_count": null,
   "metadata": {},
   "outputs": [],
   "source": [
    "from denvercrime.src.utils.config_loader import get_config\n",
    "conf = get_config()"
   ]
  },
  {
   "cell_type": "markdown",
   "metadata": {},
   "source": [
    "## Importing data"
   ]
  },
  {
   "cell_type": "markdown",
   "metadata": {},
   "source": [
    "The next thing you need to do is import the data into the notebook. If you haven't already done so, make sure to download the denver crime data, unzip it into data/raw/(see the [*Getting started*](https://github.com/dawsoneliasen/denvercrime#getting-started) section of the project README). Then, give accesst the csv by running `chmod 700 data/raw/crime.csv`. Let's take the data out from the .csv and put it in a pandas dataframe."
   ]
  },
  {
   "cell_type": "code",
   "execution_count": null,
   "metadata": {},
   "outputs": [],
   "source": [
    "#df = pd.read_csv('../data/raw/crime.csv', engine='python')\n",
    "df = pd.read_csv(os.path.join(conf.dirs.data.raw, \"crime.csv\"))\n",
    "df.dataframeName = 'crime.csv'"
   ]
  },
  {
   "cell_type": "markdown",
   "metadata": {},
   "source": [
    "Now that the data are imported, let's print out a small portion of the dataframe to see what it looks like. "
   ]
  },
  {
   "cell_type": "code",
   "execution_count": null,
   "metadata": {},
   "outputs": [],
   "source": [
    "df.head(5)"
   ]
  },
  {
   "cell_type": "markdown",
   "metadata": {},
   "source": [
    "## Making a visualization\n",
    "To start building an intuition of what we're dealing with, let's investigate the frequency of various types of offenses. The OFFENSE_CATEGORY_ID column provides the category of each offense."
   ]
  },
  {
   "cell_type": "code",
   "execution_count": null,
   "metadata": {},
   "outputs": [],
   "source": [
    "# we're only interested in one column - let's pull it out as a separate dataframe\n",
    "column = df.loc[:, 'OFFENSE_CATEGORY_ID']\n",
    "\n",
    "# once again, we can use head to take a look\n",
    "column.head(5)"
   ]
  },
  {
   "cell_type": "code",
   "execution_count": null,
   "metadata": {},
   "outputs": [],
   "source": [
    "# we can get the count of each category by calling value_counts() on the column\n",
    "counts = column.value_counts()\n",
    "# counts is a Series object (value_counts() returns a Series object); \n",
    "# in this case, a series of counts associated with values for offense_category_id\n",
    "counts.head(5)"
   ]
  },
  {
   "cell_type": "code",
   "execution_count": null,
   "metadata": {},
   "outputs": [],
   "source": [
    "# initialize the pyplot figure (\"canvas\")\n",
    "plt.figure(num=None, figsize =(6, 6), dpi=100, facecolor='w', edgecolor='k')\n",
    "\n",
    "# because the data are now held in a pandas Series object, \n",
    "# we can generate by plot simply by calling a method on the object\n",
    "# this (pandas) function creates a matplotlib plot\n",
    "counts.plot.bar()\n",
    "\n",
    "# set the seaborn style\n",
    "sns.set_style('darkgrid')\n",
    "sns.set_palette('deep')\n",
    "\n",
    "# add labels\n",
    "plt.title('Frequency of offense categories')\n",
    "plt.ylabel('counts', size=12)\n",
    "\n",
    "# format the ticks on the x axis\n",
    "plt.xticks(rotation=45, ha='right')\n",
    "\n",
    "# set the layout\n",
    "plt.tight_layout(pad=1.0, w_pad=1.0, h_pad=1.0)\n",
    "\n",
    "#display the plot\n",
    "fig = plt.gcf()\n",
    "plt.show()"
   ]
  },
  {
   "cell_type": "markdown",
   "metadata": {},
   "source": [
    "## Save Visualizations to File"
   ]
  },
  {
   "cell_type": "code",
   "execution_count": null,
   "metadata": {},
   "outputs": [],
   "source": [
    "output_file = \"offenses.png\"\n",
    "fig.savefig(os.path.join(conf.dirs.output, output_file), dpi=600)"
   ]
  },
  {
   "cell_type": "markdown",
   "metadata": {},
   "source": [
    "## Process\n",
    "No one expects you to have this code memorized! **Documentation is a programmer's best friend**. Read the [pandas documentation](https://pandas.pydata.org/pandas-docs/stable/reference/api/pandas.Series.html), [matplotlib documentation](https://matplotlib.org/api/_as_gen/matplotlib.pyplot.bar.html), the [seaborn documentation](https://seaborn.pydata.org/generated/seaborn.countplot.html#seaborn.countplot), and search StackOverflow."
   ]
  },
  {
   "cell_type": "markdown",
   "metadata": {},
   "source": [
    "## Exploring further\n",
    "* What do this visualization tell us? \n",
    "* In what ways does it mislead us? \n",
    "* How could we expand or refine this visualization?\n",
    "* What other questions can we ask of the data?\n",
    "* What's another visualization we could make right now?"
   ]
  },
  {
   "cell_type": "code",
   "execution_count": null,
   "metadata": {},
   "outputs": [],
   "source": []
  }
 ],
 "metadata": {
  "kernelspec": {
   "display_name": "denvercrime",
   "language": "python",
   "name": "denvercrime"
  },
  "language_info": {
   "codemirror_mode": {
    "name": "ipython",
    "version": 3
   },
   "file_extension": ".py",
   "mimetype": "text/x-python",
   "name": "python",
   "nbconvert_exporter": "python",
   "pygments_lexer": "ipython3",
   "version": "3.6.7"
  }
 },
 "nbformat": 4,
 "nbformat_minor": 2
}
